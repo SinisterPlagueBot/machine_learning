{
 "cells": [
  {
   "cell_type": "code",
   "execution_count": 1,
   "metadata": {},
   "outputs": [],
   "source": [
    "from simplifiedModel import LogisticRegressor,accuracy\n",
    "import numpy as np\n",
    "import pandas as pd"
   ]
  },
  {
   "cell_type": "markdown",
   "metadata": {},
   "source": [
    "Test Real data"
   ]
  },
  {
   "cell_type": "code",
   "execution_count": 3,
   "metadata": {},
   "outputs": [],
   "source": [
    "from sklearn.preprocessing import LabelEncoder\n",
    "import pandas as pd\n",
    "from sklearn.preprocessing import MinMaxScaler\n",
    "\n",
    "def preprocess_data(X, y):\n",
    "\n",
    "    # Encode the target variable\n",
    "    encoder = LabelEncoder()\n",
    "    y = encoder.fit_transform(y)\n",
    "\n",
    "    # Normalize the features to the range [0, 1]\n",
    "    scaler = MinMaxScaler()\n",
    "    X = pd.DataFrame(scaler.fit_transform(X), columns=X.columns)\n",
    "\n",
    "    return X, y"
   ]
  },
  {
   "cell_type": "code",
   "execution_count": 4,
   "metadata": {},
   "outputs": [],
   "source": [
    "model2=LogisticRegressor()\n",
    "df=pd.read_csv('fake_bills.csv',sep=';')\n",
    "#removing rows with missing values\n",
    "df=df.dropna()\n",
    "#shuffling the rows\n",
    "df = df.sample(frac=1).reset_index(drop=True)\n",
    "\n",
    "# train sample\n",
    "df_train=df.head(1000)\n",
    "x=df_train.drop(['is_genuine'],axis=1)\n",
    "y=df_train['is_genuine']\n",
    "x,y=preprocess_data(x,y)\n",
    "\n",
    "#trainning the model\n",
    "model2.fit(x,y)\n",
    "\n",
    "# test sample\n",
    "df_test=df.tail(400)\n",
    "x_test,y_test=preprocess_data(df_test.drop(['is_genuine'],axis=1),df_test['is_genuine'])\n",
    "\n",
    "\n"
   ]
  },
  {
   "cell_type": "code",
   "execution_count": 5,
   "metadata": {},
   "outputs": [
    {
     "name": "stdout",
     "output_type": "stream",
     "text": [
      "accuracy is 0.9975\n"
     ]
    }
   ],
   "source": [
    "model_accuracy=accuracy(y_test,model2.predict(x_test))\n",
    "print(f'accuracy is {model_accuracy}')"
   ]
  }
 ],
 "metadata": {
  "kernelspec": {
   "display_name": "Python 3",
   "language": "python",
   "name": "python3"
  },
  "language_info": {
   "codemirror_mode": {
    "name": "ipython",
    "version": 3
   },
   "file_extension": ".py",
   "mimetype": "text/x-python",
   "name": "python",
   "nbconvert_exporter": "python",
   "pygments_lexer": "ipython3",
   "version": "3.11.4"
  }
 },
 "nbformat": 4,
 "nbformat_minor": 2
}
